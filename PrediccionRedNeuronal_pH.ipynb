{
 "cells": [
  {
   "cell_type": "markdown",
   "metadata": {},
   "source": [
    "Redes Neuronales: se desea realizar una predicción de ph por medio de redes neuronales, por la libreria Keras de tensorflow"
   ]
  },
  {
   "cell_type": "code",
   "execution_count": 4,
   "metadata": {},
   "outputs": [],
   "source": [
    "import pandas as pd\n",
    "import numpy as np\n",
    "from sklearn.model_selection import train_test_split\n",
    "from sklearn.preprocessing import StandardScaler, MinMaxScaler\n",
    "from sklearn.metrics import confusion_matrix\n",
    "from keras.optimizers import Adam\n",
    "from keras.callbacks import EarlyStopping, ModelCheckpoint\n",
    "from keras.layers import BatchNormalization"
   ]
  },
  {
   "cell_type": "code",
   "execution_count": 6,
   "metadata": {},
   "outputs": [],
   "source": [
    "df = pd.read_csv('pH Data.csv')\n",
    "\n",
    "dataset = df.values\n",
    "X = dataset[:,:-1]\n",
    "y = dataset[:,-1]\n"
   ]
  },
  {
   "cell_type": "code",
   "execution_count": 7,
   "metadata": {},
   "outputs": [],
   "source": [
    "scale = MinMaxScaler()\n",
    "X_scale = scale.fit_transform(X)\n",
    "X_tr, X_ts, y_tr, y_ts = train_test_split(X_scale, y, test_size=0.2, random_state=7)"
   ]
  },
  {
   "cell_type": "code",
   "execution_count": 8,
   "metadata": {},
   "outputs": [
    {
     "name": "stderr",
     "output_type": "stream",
     "text": [
      "2022-10-04 03:39:51.998865: W tensorflow/stream_executor/platform/default/dso_loader.cc:64] Could not load dynamic library 'libcuda.so.1'; dlerror: libcuda.so.1: cannot open shared object file: No such file or directory\n",
      "2022-10-04 03:39:51.998903: W tensorflow/stream_executor/cuda/cuda_driver.cc:263] failed call to cuInit: UNKNOWN ERROR (303)\n",
      "2022-10-04 03:39:51.998927: I tensorflow/stream_executor/cuda/cuda_diagnostics.cc:156] kernel driver does not appear to be running on this host (yordan-H81M-H): /proc/driver/nvidia/version does not exist\n",
      "2022-10-04 03:39:52.094727: I tensorflow/core/platform/cpu_feature_guard.cc:193] This TensorFlow binary is optimized with oneAPI Deep Neural Network Library (oneDNN) to use the following CPU instructions in performance-critical operations:  AVX2 FMA\n",
      "To enable them in other operations, rebuild TensorFlow with the appropriate compiler flags.\n"
     ]
    }
   ],
   "source": [
    "from keras.models import Sequential\n",
    "from keras.layers import Dense, Flatten\n",
    "\n",
    "model_ = Sequential([\n",
    "                     Flatten(input_shape=(3,)),\n",
    "                     Dense(100, activation='relu'),\n",
    "                     BatchNormalization(),\n",
    "                     Dense(100, activation='relu'),\n",
    "                     BatchNormalization(),\n",
    "                     Dense(45, activation='relu'),\n",
    "                     BatchNormalization(),\n",
    "                     Dense(15, activation='softmax'),\n",
    "                    ])\n",
    "#adam_optimizer = Adam(learning_rate=0.0001)\n",
    "\n",
    "model_.compile(optimizer='adam', loss='sparse_categorical_crossentropy', metrics=['accuracy'])"
   ]
  },
  {
   "cell_type": "code",
   "execution_count": 9,
   "metadata": {},
   "outputs": [
    {
     "name": "stdout",
     "output_type": "stream",
     "text": [
      "Epoch 1/30\n",
      "41/45 [==========================>...] - ETA: 0s - loss: 2.2503 - accuracy: 0.3366WARNING:tensorflow:Early stopping conditioned on metric `val_acc` which is not available. Available metrics are: loss,accuracy,val_loss,val_accuracy\n",
      "45/45 [==============================] - 5s 25ms/step - loss: 2.2112 - accuracy: 0.3454 - val_loss: 2.6350 - val_accuracy: 0.2405\n",
      "Epoch 2/30\n",
      "44/45 [============================>.] - ETA: 0s - loss: 1.5291 - accuracy: 0.5136WARNING:tensorflow:Early stopping conditioned on metric `val_acc` which is not available. Available metrics are: loss,accuracy,val_loss,val_accuracy\n",
      "45/45 [==============================] - 1s 15ms/step - loss: 1.5282 - accuracy: 0.5147 - val_loss: 2.5840 - val_accuracy: 0.0886\n",
      "Epoch 3/30\n",
      "40/45 [=========================>....] - ETA: 0s - loss: 1.3900 - accuracy: 0.5400WARNING:tensorflow:Early stopping conditioned on metric `val_acc` which is not available. Available metrics are: loss,accuracy,val_loss,val_accuracy\n",
      "45/45 [==============================] - 1s 12ms/step - loss: 1.4095 - accuracy: 0.5237 - val_loss: 2.5258 - val_accuracy: 0.1013\n",
      "Epoch 4/30\n",
      "45/45 [==============================] - ETA: 0s - loss: 1.3689 - accuracy: 0.5418WARNING:tensorflow:Early stopping conditioned on metric `val_acc` which is not available. Available metrics are: loss,accuracy,val_loss,val_accuracy\n",
      "45/45 [==============================] - 1s 19ms/step - loss: 1.3689 - accuracy: 0.5418 - val_loss: 2.4675 - val_accuracy: 0.1519\n",
      "Epoch 5/30\n",
      "42/45 [===========================>..] - ETA: 0s - loss: 1.3178 - accuracy: 0.5476WARNING:tensorflow:Early stopping conditioned on metric `val_acc` which is not available. Available metrics are: loss,accuracy,val_loss,val_accuracy\n",
      "45/45 [==============================] - 1s 18ms/step - loss: 1.3278 - accuracy: 0.5440 - val_loss: 2.3700 - val_accuracy: 0.2278\n",
      "Epoch 6/30\n",
      "42/45 [===========================>..] - ETA: 0s - loss: 1.2432 - accuracy: 0.6190WARNING:tensorflow:Early stopping conditioned on metric `val_acc` which is not available. Available metrics are: loss,accuracy,val_loss,val_accuracy\n",
      "45/45 [==============================] - 1s 14ms/step - loss: 1.2595 - accuracy: 0.6140 - val_loss: 2.2008 - val_accuracy: 0.3165\n",
      "Epoch 7/30\n",
      "43/45 [===========================>..] - ETA: 0s - loss: 1.2904 - accuracy: 0.5465WARNING:tensorflow:Early stopping conditioned on metric `val_acc` which is not available. Available metrics are: loss,accuracy,val_loss,val_accuracy\n",
      "45/45 [==============================] - 1s 16ms/step - loss: 1.2837 - accuracy: 0.5530 - val_loss: 1.9917 - val_accuracy: 0.3924\n",
      "Epoch 8/30\n",
      "43/45 [===========================>..] - ETA: 0s - loss: 1.2764 - accuracy: 0.5326WARNING:tensorflow:Early stopping conditioned on metric `val_acc` which is not available. Available metrics are: loss,accuracy,val_loss,val_accuracy\n",
      "45/45 [==============================] - 1s 19ms/step - loss: 1.2887 - accuracy: 0.5305 - val_loss: 1.8224 - val_accuracy: 0.4557\n",
      "Epoch 9/30\n",
      "43/45 [===========================>..] - ETA: 0s - loss: 1.1378 - accuracy: 0.6279WARNING:tensorflow:Early stopping conditioned on metric `val_acc` which is not available. Available metrics are: loss,accuracy,val_loss,val_accuracy\n",
      "45/45 [==============================] - 1s 21ms/step - loss: 1.1397 - accuracy: 0.6230 - val_loss: 1.6333 - val_accuracy: 0.4937\n",
      "Epoch 10/30\n",
      "40/45 [=========================>....] - ETA: 0s - loss: 1.1824 - accuracy: 0.5950WARNING:tensorflow:Early stopping conditioned on metric `val_acc` which is not available. Available metrics are: loss,accuracy,val_loss,val_accuracy\n",
      "45/45 [==============================] - 1s 14ms/step - loss: 1.2120 - accuracy: 0.5801 - val_loss: 1.4646 - val_accuracy: 0.4810\n",
      "Epoch 11/30\n",
      "42/45 [===========================>..] - ETA: 0s - loss: 1.2306 - accuracy: 0.5643WARNING:tensorflow:Early stopping conditioned on metric `val_acc` which is not available. Available metrics are: loss,accuracy,val_loss,val_accuracy\n",
      "45/45 [==============================] - 1s 12ms/step - loss: 1.2544 - accuracy: 0.5621 - val_loss: 1.2603 - val_accuracy: 0.5696\n",
      "Epoch 12/30\n",
      "40/45 [=========================>....] - ETA: 0s - loss: 1.1504 - accuracy: 0.6050WARNING:tensorflow:Early stopping conditioned on metric `val_acc` which is not available. Available metrics are: loss,accuracy,val_loss,val_accuracy\n",
      "45/45 [==============================] - 0s 9ms/step - loss: 1.1802 - accuracy: 0.5892 - val_loss: 1.1369 - val_accuracy: 0.7215\n",
      "Epoch 13/30\n",
      "44/45 [============================>.] - ETA: 0s - loss: 1.1489 - accuracy: 0.6250WARNING:tensorflow:Early stopping conditioned on metric `val_acc` which is not available. Available metrics are: loss,accuracy,val_loss,val_accuracy\n",
      "45/45 [==============================] - 1s 12ms/step - loss: 1.1457 - accuracy: 0.6275 - val_loss: 1.1152 - val_accuracy: 0.6203\n",
      "Epoch 14/30\n",
      "44/45 [============================>.] - ETA: 0s - loss: 1.1590 - accuracy: 0.5977WARNING:tensorflow:Early stopping conditioned on metric `val_acc` which is not available. Available metrics are: loss,accuracy,val_loss,val_accuracy\n",
      "45/45 [==============================] - 1s 14ms/step - loss: 1.1550 - accuracy: 0.5982 - val_loss: 1.1562 - val_accuracy: 0.5823\n",
      "Epoch 15/30\n",
      "44/45 [============================>.] - ETA: 0s - loss: 1.0759 - accuracy: 0.6295WARNING:tensorflow:Early stopping conditioned on metric `val_acc` which is not available. Available metrics are: loss,accuracy,val_loss,val_accuracy\n",
      "45/45 [==============================] - 1s 14ms/step - loss: 1.0758 - accuracy: 0.6298 - val_loss: 1.1376 - val_accuracy: 0.6329\n",
      "Epoch 16/30\n",
      "42/45 [===========================>..] - ETA: 0s - loss: 1.1099 - accuracy: 0.6024WARNING:tensorflow:Early stopping conditioned on metric `val_acc` which is not available. Available metrics are: loss,accuracy,val_loss,val_accuracy\n",
      "45/45 [==============================] - 1s 12ms/step - loss: 1.1182 - accuracy: 0.5982 - val_loss: 0.9793 - val_accuracy: 0.6456\n",
      "Epoch 17/30\n",
      "40/45 [=========================>....] - ETA: 0s - loss: 1.1495 - accuracy: 0.6100WARNING:tensorflow:Early stopping conditioned on metric `val_acc` which is not available. Available metrics are: loss,accuracy,val_loss,val_accuracy\n",
      "45/45 [==============================] - 1s 14ms/step - loss: 1.1443 - accuracy: 0.6117 - val_loss: 1.0993 - val_accuracy: 0.6203\n",
      "Epoch 18/30\n",
      "45/45 [==============================] - ETA: 0s - loss: 1.0812 - accuracy: 0.6275WARNING:tensorflow:Early stopping conditioned on metric `val_acc` which is not available. Available metrics are: loss,accuracy,val_loss,val_accuracy\n",
      "45/45 [==============================] - 0s 11ms/step - loss: 1.0812 - accuracy: 0.6275 - val_loss: 1.1299 - val_accuracy: 0.6456\n",
      "Epoch 19/30\n",
      "36/45 [=======================>......] - ETA: 0s - loss: 1.0487 - accuracy: 0.6278WARNING:tensorflow:Early stopping conditioned on metric `val_acc` which is not available. Available metrics are: loss,accuracy,val_loss,val_accuracy\n",
      "45/45 [==============================] - 0s 9ms/step - loss: 1.1201 - accuracy: 0.6095 - val_loss: 1.1185 - val_accuracy: 0.6076\n",
      "Epoch 20/30\n",
      "42/45 [===========================>..] - ETA: 0s - loss: 1.0777 - accuracy: 0.6667WARNING:tensorflow:Early stopping conditioned on metric `val_acc` which is not available. Available metrics are: loss,accuracy,val_loss,val_accuracy\n",
      "45/45 [==============================] - 0s 9ms/step - loss: 1.0762 - accuracy: 0.6659 - val_loss: 1.0806 - val_accuracy: 0.6835\n",
      "Epoch 21/30\n",
      "45/45 [==============================] - ETA: 0s - loss: 1.0302 - accuracy: 0.6501WARNING:tensorflow:Early stopping conditioned on metric `val_acc` which is not available. Available metrics are: loss,accuracy,val_loss,val_accuracy\n",
      "45/45 [==============================] - 1s 12ms/step - loss: 1.0302 - accuracy: 0.6501 - val_loss: 1.0724 - val_accuracy: 0.6203\n",
      "Epoch 22/30\n",
      "42/45 [===========================>..] - ETA: 0s - loss: 1.1168 - accuracy: 0.6190WARNING:tensorflow:Early stopping conditioned on metric `val_acc` which is not available. Available metrics are: loss,accuracy,val_loss,val_accuracy\n",
      "45/45 [==============================] - 1s 12ms/step - loss: 1.1361 - accuracy: 0.6140 - val_loss: 1.1460 - val_accuracy: 0.5570\n",
      "Epoch 23/30\n",
      "43/45 [===========================>..] - ETA: 0s - loss: 1.0204 - accuracy: 0.6628WARNING:tensorflow:Early stopping conditioned on metric `val_acc` which is not available. Available metrics are: loss,accuracy,val_loss,val_accuracy\n",
      "45/45 [==============================] - 1s 11ms/step - loss: 1.0401 - accuracy: 0.6569 - val_loss: 1.0142 - val_accuracy: 0.7342\n",
      "Epoch 24/30\n",
      "44/45 [============================>.] - ETA: 0s - loss: 1.0005 - accuracy: 0.6727WARNING:tensorflow:Early stopping conditioned on metric `val_acc` which is not available. Available metrics are: loss,accuracy,val_loss,val_accuracy\n",
      "45/45 [==============================] - 1s 13ms/step - loss: 1.0090 - accuracy: 0.6682 - val_loss: 0.9931 - val_accuracy: 0.7468\n",
      "Epoch 25/30\n",
      "42/45 [===========================>..] - ETA: 0s - loss: 1.0017 - accuracy: 0.6690WARNING:tensorflow:Early stopping conditioned on metric `val_acc` which is not available. Available metrics are: loss,accuracy,val_loss,val_accuracy\n",
      "45/45 [==============================] - 1s 14ms/step - loss: 1.0072 - accuracy: 0.6704 - val_loss: 1.0400 - val_accuracy: 0.7215\n",
      "Epoch 26/30\n",
      "42/45 [===========================>..] - ETA: 0s - loss: 1.0737 - accuracy: 0.6095WARNING:tensorflow:Early stopping conditioned on metric `val_acc` which is not available. Available metrics are: loss,accuracy,val_loss,val_accuracy\n",
      "45/45 [==============================] - 1s 12ms/step - loss: 1.0808 - accuracy: 0.6072 - val_loss: 1.0379 - val_accuracy: 0.7215\n",
      "Epoch 27/30\n",
      "43/45 [===========================>..] - ETA: 0s - loss: 1.0181 - accuracy: 0.6465WARNING:tensorflow:Early stopping conditioned on metric `val_acc` which is not available. Available metrics are: loss,accuracy,val_loss,val_accuracy\n",
      "45/45 [==============================] - 0s 9ms/step - loss: 1.0139 - accuracy: 0.6456 - val_loss: 0.9899 - val_accuracy: 0.7342\n",
      "Epoch 28/30\n",
      "44/45 [============================>.] - ETA: 0s - loss: 1.0209 - accuracy: 0.6409WARNING:tensorflow:Early stopping conditioned on metric `val_acc` which is not available. Available metrics are: loss,accuracy,val_loss,val_accuracy\n",
      "45/45 [==============================] - 1s 11ms/step - loss: 1.0332 - accuracy: 0.6366 - val_loss: 0.9840 - val_accuracy: 0.7595\n",
      "Epoch 29/30\n",
      "45/45 [==============================] - ETA: 0s - loss: 1.0104 - accuracy: 0.6479WARNING:tensorflow:Early stopping conditioned on metric `val_acc` which is not available. Available metrics are: loss,accuracy,val_loss,val_accuracy\n",
      "45/45 [==============================] - 1s 13ms/step - loss: 1.0104 - accuracy: 0.6479 - val_loss: 0.9889 - val_accuracy: 0.7468\n",
      "Epoch 30/30\n",
      "45/45 [==============================] - ETA: 0s - loss: 1.0029 - accuracy: 0.6569WARNING:tensorflow:Early stopping conditioned on metric `val_acc` which is not available. Available metrics are: loss,accuracy,val_loss,val_accuracy\n",
      "45/45 [==============================] - 1s 14ms/step - loss: 1.0029 - accuracy: 0.6569 - val_loss: 1.0634 - val_accuracy: 0.6835\n"
     ]
    }
   ],
   "source": [
    "# modelCheckpoint = ModelCheckpoint('best_banknote_model.hdf5', save_best_only = True)  --> for model checkpoint\n",
    "early_stopping_monitor = EarlyStopping(patience=2, monitor='val_acc',)\n",
    "hist = model_.fit(X_tr, y_tr, epochs=30, validation_split=0.15, callbacks=[early_stopping_monitor], batch_size=10) # callbacks = [monitor_val_acc, modelCheckpoint]--> for model checkpoint"
   ]
  },
  {
   "cell_type": "code",
   "execution_count": 10,
   "metadata": {},
   "outputs": [
    {
     "name": "stdout",
     "output_type": "stream",
     "text": [
      "17/17 [==============================] - 0s 9ms/step - loss: 0.8048 - accuracy: 0.7548\n"
     ]
    },
    {
     "data": {
      "text/plain": [
       "[0.8047838807106018, 0.7547892928123474]"
      ]
     },
     "execution_count": 10,
     "metadata": {},
     "output_type": "execute_result"
    }
   ],
   "source": [
    "model_.evaluate(X_tr,y_tr)"
   ]
  },
  {
   "cell_type": "code",
   "execution_count": 11,
   "metadata": {},
   "outputs": [
    {
     "name": "stdout",
     "output_type": "stream",
     "text": [
      "Model: \"sequential\"\n",
      "_________________________________________________________________\n",
      " Layer (type)                Output Shape              Param #   \n",
      "=================================================================\n",
      " flatten (Flatten)           (None, 3)                 0         \n",
      "                                                                 \n",
      " dense (Dense)               (None, 100)               400       \n",
      "                                                                 \n",
      " batch_normalization (BatchN  (None, 100)              400       \n",
      " ormalization)                                                   \n",
      "                                                                 \n",
      " dense_1 (Dense)             (None, 100)               10100     \n",
      "                                                                 \n",
      " batch_normalization_1 (Batc  (None, 100)              400       \n",
      " hNormalization)                                                 \n",
      "                                                                 \n",
      " dense_2 (Dense)             (None, 45)                4545      \n",
      "                                                                 \n",
      " batch_normalization_2 (Batc  (None, 45)               180       \n",
      " hNormalization)                                                 \n",
      "                                                                 \n",
      " dense_3 (Dense)             (None, 15)                690       \n",
      "                                                                 \n",
      "=================================================================\n",
      "Total params: 16,715\n",
      "Trainable params: 16,225\n",
      "Non-trainable params: 490\n",
      "_________________________________________________________________\n",
      "None\n",
      "\n",
      "\n",
      "[<keras.layers.reshaping.flatten.Flatten object at 0x7f69d718d9f0>, <keras.layers.core.dense.Dense object at 0x7f69d4e2c8b0>, <keras.layers.normalization.batch_normalization.BatchNormalization object at 0x7f69d526a5c0>, <keras.layers.core.dense.Dense object at 0x7f69d718d450>, <keras.layers.normalization.batch_normalization.BatchNormalization object at 0x7f69d4e2cc40>, <keras.layers.core.dense.Dense object at 0x7f69d4e2d0c0>, <keras.layers.normalization.batch_normalization.BatchNormalization object at 0x7f69d4e2d2d0>, <keras.layers.core.dense.Dense object at 0x7f69d4e2d750>]\n"
     ]
    }
   ],
   "source": [
    "print(model_.summary())\n",
    "print('\\n')\n",
    "print(model_.layers)"
   ]
  },
  {
   "cell_type": "code",
   "execution_count": 12,
   "metadata": {},
   "outputs": [
    {
     "name": "stdout",
     "output_type": "stream",
     "text": [
      "5/5 [==============================] - 0s 2ms/step\n",
      "predicted values for X_ts= \n",
      " [ 7  9  7 13  0  3  4 12  6  9  8 10  4 10  6  8 12 13  9  3  9  1  1  2\n",
      "  6 12 13  3 14  6  4  7  0  8  1 10 10  2 11  4  5  1  5  9 10  5  0 13\n",
      "  2  0  0 10  4 11  4  5  3  3 10  6  3 10  7  8  8  9 14 13  7  1  0  1\n",
      " 14  1 10 13  3 13  8 14  1  2  5 11  9  2  3  1  1 10  7  2  0  6  0  7\n",
      "  5  4 14  7 13 10 12 13 10  7  0 12  2 14 14  5 10 14  1 14  3  0  4 14\n",
      "  9  3  1 12  6  7  2 11 14  5 14]\n",
      "\n",
      "\n",
      "accuracy_score:  0.6946564885496184\n"
     ]
    }
   ],
   "source": [
    "y_pred = np.argmax(model_.predict(X_ts), axis=-1)\n",
    "print('predicted values for X_ts= \\n', y_pred)\n",
    "\n",
    "zeros = y_pred - y_ts\n",
    "c = 0\n",
    "for i in zeros:\n",
    "  if i == 0:\n",
    "    c = c + 1\n",
    "acc = c / len(zeros)   \n",
    "print('\\n') \n",
    "print('accuracy_score: ',acc)"
   ]
  }
 ],
 "metadata": {
  "kernelspec": {
   "display_name": "Python 3.10.4 64-bit",
   "language": "python",
   "name": "python3"
  },
  "language_info": {
   "codemirror_mode": {
    "name": "ipython",
    "version": 3
   },
   "file_extension": ".py",
   "mimetype": "text/x-python",
   "name": "python",
   "nbconvert_exporter": "python",
   "pygments_lexer": "ipython3",
   "version": "3.10.4"
  },
  "orig_nbformat": 4,
  "vscode": {
   "interpreter": {
    "hash": "97cc609b13305c559618ec78a438abc56230b9381f827f22d070313b9a1f3777"
   }
  }
 },
 "nbformat": 4,
 "nbformat_minor": 2
}
