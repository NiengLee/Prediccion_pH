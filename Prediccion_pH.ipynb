{
 "cells": [
  {
   "cell_type": "markdown",
   "metadata": {},
   "source": [
    "Se importan las librerias necesarias para el analisis de datos y predicción\n",
    "\n",
    "link:\"https://www.kaggle.com/datasets/robjan/ph-recognition\""
   ]
  },
  {
   "cell_type": "code",
   "execution_count": 2,
   "metadata": {},
   "outputs": [],
   "source": [
    "import numpy as np\n",
    "import pandas as pd\n",
    "import matplotlib.pyplot as plt\n",
    "import seaborn as sns\n",
    "\n",
    "%matplotlib inline\n",
    "\n",
    "from sklearn.pipeline import Pipeline\n",
    "from sklearn.preprocessing import StandardScaler\n",
    "from sklearn.ensemble import GradientBoostingClassifier, RandomForestClassifier, AdaBoostClassifier\n",
    "from sklearn.metrics import r2_score, mean_squared_error, accuracy_score, classification_report, confusion_matrix\n",
    "from sklearn.model_selection import GridSearchCV, train_test_split, RandomizedSearchCV, cross_val_score\n",
    "from sklearn.linear_model import LogisticRegression\n",
    "from sklearn.svm import SVC"
   ]
  },
  {
   "cell_type": "markdown",
   "metadata": {},
   "source": [
    "Se procede a leer los datos del archivo csv y verificar el estado de los datos importados"
   ]
  },
  {
   "cell_type": "code",
   "execution_count": 3,
   "metadata": {},
   "outputs": [
    {
     "data": {
      "text/html": [
       "<div>\n",
       "<style scoped>\n",
       "    .dataframe tbody tr th:only-of-type {\n",
       "        vertical-align: middle;\n",
       "    }\n",
       "\n",
       "    .dataframe tbody tr th {\n",
       "        vertical-align: top;\n",
       "    }\n",
       "\n",
       "    .dataframe thead th {\n",
       "        text-align: right;\n",
       "    }\n",
       "</style>\n",
       "<table border=\"1\" class=\"dataframe\">\n",
       "  <thead>\n",
       "    <tr style=\"text-align: right;\">\n",
       "      <th></th>\n",
       "      <th>blue</th>\n",
       "      <th>green</th>\n",
       "      <th>red</th>\n",
       "      <th>label</th>\n",
       "    </tr>\n",
       "  </thead>\n",
       "  <tbody>\n",
       "    <tr>\n",
       "      <th>0</th>\n",
       "      <td>36</td>\n",
       "      <td>27</td>\n",
       "      <td>231</td>\n",
       "      <td>0</td>\n",
       "    </tr>\n",
       "    <tr>\n",
       "      <th>1</th>\n",
       "      <td>36</td>\n",
       "      <td>84</td>\n",
       "      <td>250</td>\n",
       "      <td>1</td>\n",
       "    </tr>\n",
       "    <tr>\n",
       "      <th>2</th>\n",
       "      <td>37</td>\n",
       "      <td>164</td>\n",
       "      <td>255</td>\n",
       "      <td>2</td>\n",
       "    </tr>\n",
       "    <tr>\n",
       "      <th>3</th>\n",
       "      <td>22</td>\n",
       "      <td>205</td>\n",
       "      <td>255</td>\n",
       "      <td>3</td>\n",
       "    </tr>\n",
       "    <tr>\n",
       "      <th>4</th>\n",
       "      <td>38</td>\n",
       "      <td>223</td>\n",
       "      <td>221</td>\n",
       "      <td>4</td>\n",
       "    </tr>\n",
       "  </tbody>\n",
       "</table>\n",
       "</div>"
      ],
      "text/plain": [
       "   blue  green  red  label\n",
       "0    36     27  231      0\n",
       "1    36     84  250      1\n",
       "2    37    164  255      2\n",
       "3    22    205  255      3\n",
       "4    38    223  221      4"
      ]
     },
     "metadata": {},
     "output_type": "display_data"
    },
    {
     "name": "stdout",
     "output_type": "stream",
     "text": [
      "<class 'pandas.core.frame.DataFrame'>\n",
      "RangeIndex: 653 entries, 0 to 652\n",
      "Data columns (total 4 columns):\n",
      " #   Column  Non-Null Count  Dtype\n",
      "---  ------  --------------  -----\n",
      " 0   blue    653 non-null    int64\n",
      " 1   green   653 non-null    int64\n",
      " 2   red     653 non-null    int64\n",
      " 3   label   653 non-null    int64\n",
      "dtypes: int64(4)\n",
      "memory usage: 20.5 KB\n",
      "None\n",
      "             blue       green         red       label\n",
      "count  653.000000  653.000000  653.000000  653.000000\n",
      "mean    89.290965  130.094946  120.655436    7.055130\n",
      "std     74.974850   72.487085   89.581264    4.287951\n",
      "min      0.000000    0.000000    0.000000    0.000000\n",
      "25%     22.000000   68.000000   52.000000    3.000000\n",
      "50%     67.000000  146.000000   90.000000    7.000000\n",
      "75%    162.000000  189.000000  224.000000   11.000000\n",
      "max    255.000000  255.000000  255.000000   14.000000\n"
     ]
    }
   ],
   "source": [
    "df_ph = pd.read_csv('pH Data.csv')\n",
    "df_ph_sh = df_ph.sample(frac=1, random_state=7).reset_index(drop=True)\n",
    "\n",
    "display(df_ph.head(5))\n",
    "print(df_ph.info())\n",
    "print(df_ph.describe())"
   ]
  },
  {
   "cell_type": "markdown",
   "metadata": {},
   "source": [
    "No es necesario realizar limpieza de datos ya que existen todos los datos y no hay valores atípicos.\n",
    "Se procede a dividir los datos en conjuntos de entrenamiento y de testeo"
   ]
  },
  {
   "cell_type": "code",
   "execution_count": 4,
   "metadata": {},
   "outputs": [],
   "source": [
    "X = df_ph_sh.drop('label', axis=1)\n",
    "y = df_ph_sh['label']\n",
    "\n",
    "X_tr, X_ts, y_tr, y_ts = train_test_split(X, y, test_size = 0.21, random_state=4)"
   ]
  },
  {
   "cell_type": "markdown",
   "metadata": {},
   "source": [
    "Se realiza un Pipelane para estandarizar los datos, y se aplica bosques aleatorios para el modelamiento de datos.\n",
    "Se realiza un random search para encontrar de manera aleatoria los mejores parametros de operacion del modelo\n"
   ]
  },
  {
   "cell_type": "markdown",
   "metadata": {},
   "source": []
  },
  {
   "cell_type": "code",
   "execution_count": 5,
   "metadata": {},
   "outputs": [
    {
     "name": "stdout",
     "output_type": "stream",
     "text": [
      "Complete details of the model:   Pipeline(steps=[('Scale', StandardScaler()),\n",
      "                ('RFC',\n",
      "                 RandomForestClassifier(max_depth=6, n_estimators=39,\n",
      "                                        random_state=7, warm_start=True))])\n",
      "Best scorer:                     0.7570135746606335\n",
      "Best Hyperparameters choosen:    {'RFC__n_estimators': 39, 'RFC__max_depth': 6}\n",
      "Best Index:                      2\n",
      "Scorer:                          make_scorer(accuracy_score)\n",
      "number of splits:                10\n",
      "refit_time:                      0.04941964149475098\n",
      "++++++++++++++++Scores: \n",
      "0.8571428571428571\n",
      "0.8\n",
      "0.8\n",
      "0.8571428571428571\n",
      "0.7714285714285715\n",
      "0.7058823529411765\n",
      "0.8529411764705882\n",
      "0.7647058823529411\n",
      "0.5882352941176471\n",
      "0.8529411764705882\n",
      "0.7647058823529411\n",
      "0.7647058823529411\n",
      "0.7647058823529411\n",
      "0.7352941176470589\n",
      "0.5588235294117647\n",
      "\n",
      "\n",
      "Mean: 0.7625770308123249\n",
      "Standard deviation: 0.08678838557053661\n",
      "\n",
      "\n",
      "Score on the TEST set:           0.717391304347826\n"
     ]
    }
   ],
   "source": [
    "RFC_Pipeline = Pipeline([\n",
    "                    ('Scale', StandardScaler()),\n",
    "                    ('RFC', RandomForestClassifier(random_state=7, warm_start=True))\n",
    "                ])\n",
    "\n",
    "param_grid = {\n",
    "                    'RFC__n_estimators': [38,39,40,41,42],\n",
    "                    'RFC__max_depth': [3,4,5,6]\n",
    "                } \n",
    "\n",
    "randSCV = RandomizedSearchCV(estimator=RFC_Pipeline, param_distributions=param_grid, n_iter=12, scoring='accuracy', cv=10, refit=True, return_train_score=True)\n",
    "\n",
    "randSCV.fit(X_tr, y_tr)\n",
    "\n",
    "#print(gridSCV.cv_results_)\n",
    "print(\"Complete details of the model:  \",randSCV.best_estimator_)\n",
    "print(\"Best scorer:                    \",randSCV.best_score_)\n",
    "print(\"Best Hyperparameters choosen:   \",randSCV.best_params_)\n",
    "print(\"Best Index:                     \",randSCV.best_index_)\n",
    "print(\"Scorer:                         \",randSCV.scorer_)\n",
    "print(\"number of splits:               \",randSCV.n_splits_)\n",
    "print(\"refit_time:                     \",randSCV.refit_time_)\n",
    "\n",
    "\n",
    "BMRand_RFC_Pipeline = randSCV.best_estimator_ # BM: best model\n",
    "\n",
    "scores = cross_val_score(estimator=BMRand_RFC_Pipeline, X=X_tr, y=y_tr, cv=15, scoring='accuracy') \n",
    "\n",
    "y_pred_RandBMRFC = BMRand_RFC_Pipeline.predict(X_ts)\n",
    "\n",
    "print('++++++++++++++++Scores: ')\n",
    "for i in scores:\n",
    "    print(i)\n",
    "print('\\n')  \n",
    "print(\"Mean:\", scores.mean())\n",
    "print(\"Standard deviation:\", scores.std())\n",
    "print('\\n')\n",
    "print('Score on the TEST set:          ', accuracy_score(y_ts, y_pred_RandBMRFC))"
   ]
  },
  {
   "cell_type": "markdown",
   "metadata": {},
   "source": [
    "Se obtuvo un valor de 71,74% de presición de los valores de testeo en su predicción de pH.\n",
    "A continuación se propone un espacio para insertar datos de azul verde y rojo y predecir pH"
   ]
  },
  {
   "cell_type": "code",
   "execution_count": 7,
   "metadata": {},
   "outputs": [
    {
     "name": "stdout",
     "output_type": "stream",
     "text": [
      "el valor de pH para la nueva muestra es de: .......  [2]\n"
     ]
    },
    {
     "name": "stderr",
     "output_type": "stream",
     "text": [
      "/home/yordan/.local/lib/python3.10/site-packages/sklearn/base.py:450: UserWarning: X does not have valid feature names, but StandardScaler was fitted with feature names\n",
      "  warnings.warn(\n"
     ]
    }
   ],
   "source": [
    "azul = 88\n",
    "verde = 127\n",
    "rojo = 231\n",
    "eval = [azul, verde, rojo]\n",
    "eval = np.array(eval)\n",
    "resultado =BMRand_RFC_Pipeline.predict(eval.reshape(1,-1))\n",
    "print('el valor de pH para la nueva muestra es de: .......  {}'.format(resultado))"
   ]
  }
 ],
 "metadata": {
  "kernelspec": {
   "display_name": "Python 3.10.4 64-bit",
   "language": "python",
   "name": "python3"
  },
  "language_info": {
   "codemirror_mode": {
    "name": "ipython",
    "version": 3
   },
   "file_extension": ".py",
   "mimetype": "text/x-python",
   "name": "python",
   "nbconvert_exporter": "python",
   "pygments_lexer": "ipython3",
   "version": "3.10.4"
  },
  "orig_nbformat": 4,
  "vscode": {
   "interpreter": {
    "hash": "97cc609b13305c559618ec78a438abc56230b9381f827f22d070313b9a1f3777"
   }
  }
 },
 "nbformat": 4,
 "nbformat_minor": 2
}
